{
  "nbformat": 4,
  "nbformat_minor": 0,
  "metadata": {
    "colab": {
      "provenance": [],
      "authorship_tag": "ABX9TyPo1V7FTKVqwVx5N5ZN468G",
      "include_colab_link": true
    },
    "kernelspec": {
      "name": "python3",
      "display_name": "Python 3"
    },
    "language_info": {
      "name": "python"
    }
  },
  "cells": [
    {
      "cell_type": "markdown",
      "metadata": {
        "id": "view-in-github",
        "colab_type": "text"
      },
      "source": [
        "<a href=\"https://colab.research.google.com/github/Mujster/Ciphers/blob/main/ciphers.ipynb\" target=\"_parent\"><img src=\"https://colab.research.google.com/assets/colab-badge.svg\" alt=\"Open In Colab\"/></a>"
      ]
    },
    {
      "cell_type": "code",
      "execution_count": null,
      "metadata": {
        "colab": {
          "base_uri": "https://localhost:8080/"
        },
        "id": "D71_KDuR_roS",
        "outputId": "179c5074-aa6f-4b74-cf11-2b4023c89b8c"
      },
      "outputs": [
        {
          "output_type": "stream",
          "name": "stdout",
          "text": [
            "Rot-13 Cipher\n",
            "Enter Your PlainTextMessage\n",
            "Encrypted:  zrffntr\n"
          ]
        }
      ],
      "source": [
        "#Rot-13 Cipher in Python\n",
        "\n",
        "def EncryptRot13(plaintext):\n",
        "  plaintext=plaintext.lower();\n",
        "  for i in range(len(plaintext)):\n",
        "    if plaintext[i] !=' ':\n",
        "      temp=97\n",
        "      plaintext=plaintext[:i]+chr((ord(plaintext[i]) - temp + 13) % 26 + temp) + plaintext[i+1:]\n",
        "  return plaintext\n",
        "\n",
        "\n",
        "print(\"Rot-13 Cipher\")\n",
        "plaintext=input(\"Enter Your PlainText\")\n",
        "print(\"Encrypted: \",EncryptRot13(plaintext))\n",
        "\n",
        "\n"
      ]
    },
    {
      "cell_type": "code",
      "source": [
        "#Caesar Cipher in Python\n",
        "\n",
        "def EncryptCaesar(plaintext,key):\n",
        "  plaintext=plaintext.lower();\n",
        "  for i in range(len(plaintext)):\n",
        "    if plaintext[i] !=' ':\n",
        "      temp=97\n",
        "      plaintext=plaintext[:i]+chr((ord(plaintext[i]) - temp + int(key)) % 26 + temp) + plaintext[i+1:]\n",
        "  return plaintext\n",
        "\n",
        "\n",
        "print(\"Caesar Cipher\")\n",
        "plaintext=input(\"Enter Your PlainText\")\n",
        "key=input(\"Enter your Key (1-25)\")\n",
        "print(\"Encrypted: \",EncryptCaesar(plaintext,key))\n",
        "\n",
        "\n"
      ],
      "metadata": {
        "colab": {
          "base_uri": "https://localhost:8080/"
        },
        "id": "kDnAf2-l1pOA",
        "outputId": "abf4c052-f616-4736-f2bc-1105a317c1cb"
      },
      "execution_count": null,
      "outputs": [
        {
          "output_type": "stream",
          "name": "stdout",
          "text": [
            "Rot-13 Cipher\n",
            "Enter Your PlainTextMessage\n",
            "Enter your Key (1-25)13\n",
            "Encrypted:  zrffntr\n"
          ]
        }
      ]
    }
  ]
}